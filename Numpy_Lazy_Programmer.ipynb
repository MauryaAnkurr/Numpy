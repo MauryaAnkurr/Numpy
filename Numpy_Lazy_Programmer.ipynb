{
 "cells": [
  {
   "cell_type": "code",
   "execution_count": 1,
   "metadata": {},
   "outputs": [],
   "source": [
    "import numpy as np"
   ]
  },
  {
   "cell_type": "code",
   "execution_count": 2,
   "metadata": {},
   "outputs": [
    {
     "name": "stdout",
     "output_type": "stream",
     "text": [
      "10\n"
     ]
    }
   ],
   "source": [
    "#two vectors simulation\n",
    "\n",
    "a = np.array([1,2,3])\n",
    "b= np.array([3,2,1])\n",
    "\n",
    "dot=0\n",
    "for e,f in zip(a,b):\n",
    "    dot += e*f\n",
    "\n",
    "print(dot)\n",
    "    "
   ]
  },
  {
   "cell_type": "code",
   "execution_count": 8,
   "metadata": {},
   "outputs": [
    {
     "name": "stdout",
     "output_type": "stream",
     "text": [
      "0.9805806756909202\n",
      "0.19739555984988044\n"
     ]
    }
   ],
   "source": [
    "a = [300,200]\n",
    "b = [100,100]\n",
    "\n",
    "a = np.array(a)\n",
    "b= np.array(b)\n",
    "\n",
    "cosin = a.dot(b)/(np.linalg.norm(b)*np.linalg.norm(a))\n",
    "print(cosin)\n",
    "cos = np.arccos(cosin)\n",
    "print(cos)"
   ]
  },
  {
   "cell_type": "code",
   "execution_count": 22,
   "metadata": {},
   "outputs": [
    {
     "data": {
      "text/plain": [
       "1"
      ]
     },
     "execution_count": 22,
     "metadata": {},
     "output_type": "execute_result"
    }
   ],
   "source": [
    "M = np.array([[1,2],[3,4]])\n",
    "M[0,0]"
   ]
  },
  {
   "cell_type": "code",
   "execution_count": 10,
   "metadata": {},
   "outputs": [
    {
     "data": {
      "text/plain": [
       "3"
      ]
     },
     "execution_count": 10,
     "metadata": {},
     "output_type": "execute_result"
    }
   ],
   "source": [
    "M[1][0]"
   ]
  },
  {
   "cell_type": "code",
   "execution_count": 13,
   "metadata": {},
   "outputs": [
    {
     "name": "stdout",
     "output_type": "stream",
     "text": [
      "[[-2.   1. ]\n",
      " [ 1.5 -0.5]]\n"
     ]
    }
   ],
   "source": [
    "#matrix multipliction\n",
    "a = np.array([[1,2],[3,4]])\n",
    "Ainv = np.linalg.inv(a)\n",
    "print(Ainv)"
   ]
  },
  {
   "cell_type": "code",
   "execution_count": 14,
   "metadata": {},
   "outputs": [
    {
     "data": {
      "text/plain": [
       "array([[1.0000000e+00, 4.4408921e-16],\n",
       "       [0.0000000e+00, 1.0000000e+00]])"
      ]
     },
     "execution_count": 14,
     "metadata": {},
     "output_type": "execute_result"
    }
   ],
   "source": [
    "Ainv.dot(a)"
   ]
  },
  {
   "cell_type": "code",
   "execution_count": 16,
   "metadata": {},
   "outputs": [
    {
     "data": {
      "text/plain": [
       "array([[1.00000000e+00, 1.11022302e-16],\n",
       "       [0.00000000e+00, 1.00000000e+00]])"
      ]
     },
     "execution_count": 16,
     "metadata": {},
     "output_type": "execute_result"
    }
   ],
   "source": [
    "a.dot(Ainv)"
   ]
  },
  {
   "cell_type": "code",
   "execution_count": null,
   "metadata": {},
   "outputs": [],
   "source": [
    "a = np.array([1,2])\n",
    "b = np.array([3,4])"
   ]
  },
  {
   "cell_type": "code",
   "execution_count": 18,
   "metadata": {},
   "outputs": [
    {
     "data": {
      "text/plain": [
       "array([-100.,  100.])"
      ]
     },
     "execution_count": 18,
     "metadata": {},
     "output_type": "execute_result"
    }
   ],
   "source": [
    "np.linalg.inv(a).dot(b)"
   ]
  },
  {
   "cell_type": "code",
   "execution_count": 19,
   "metadata": {},
   "outputs": [],
   "source": [
    "A=np.array([[1,2],[3,4]])"
   ]
  },
  {
   "cell_type": "code",
   "execution_count": 21,
   "metadata": {},
   "outputs": [
    {
     "data": {
      "text/plain": [
       "array([2.22044605e-16, 5.00000000e-01])"
      ]
     },
     "execution_count": 21,
     "metadata": {},
     "output_type": "execute_result"
    }
   ],
   "source": [
    "b= np.array([1,2])\n",
    "np.linalg.inv(A).dot(b)"
   ]
  },
  {
   "cell_type": "code",
   "execution_count": 23,
   "metadata": {},
   "outputs": [
    {
     "name": "stdout",
     "output_type": "stream",
     "text": [
      "[0.  0.5]\n"
     ]
    }
   ],
   "source": [
    "a = np.linalg.solve(A,b)\n",
    "print(a)"
   ]
  },
  {
   "cell_type": "code",
   "execution_count": 24,
   "metadata": {},
   "outputs": [
    {
     "data": {
      "text/plain": [
       "array([1500.,  700.])"
      ]
     },
     "execution_count": 24,
     "metadata": {},
     "output_type": "execute_result"
    }
   ],
   "source": [
    "A = np.array([[1,1],[1.5,4]])\n",
    "b= np.array([2200,5050])\n",
    "\n",
    "np.linalg.solve(A,b)"
   ]
  },
  {
   "cell_type": "code",
   "execution_count": 25,
   "metadata": {},
   "outputs": [
    {
     "data": {
      "text/plain": [
       "array([1500.,  700.])"
      ]
     },
     "execution_count": 25,
     "metadata": {},
     "output_type": "execute_result"
    }
   ],
   "source": [
    "np.linalg.inv(A).dot(b)"
   ]
  },
  {
   "cell_type": "code",
   "execution_count": 32,
   "metadata": {},
   "outputs": [
    {
     "data": {
      "image/png": "[encoded data removed]",
      "text/plain": [
       "<Figure size 432x288 with 1 Axes>"
      ]
     },
     "metadata": {
      "needs_background": "light"
     },
     "output_type": "display_data"
    }
   ],
   "source": [
    "import matplotlib.pyplot as plt\n",
    "%matplotlib inline\n",
    "\n",
    "x = np.linspace(0,50,1000)\n",
    "y = np.sin(x)\n",
    "\n",
    "plt.plot(x,y)\n",
    "plt.show()"
   ]
  },
  {
   "cell_type": "code",
   "execution_count": 33,
   "metadata": {},
   "outputs": [],
   "source": [
    "import pandas as pd\n",
    "df = pd.read_csv(\"C:\\\\Users\\\\ankur.maurya\\\\Digit_Recognizer.csv\")"
   ]
  },
  {
   "cell_type": "code",
   "execution_count": 34,
   "metadata": {},
   "outputs": [
    {
     "data": {
      "text/plain": [
       "(42000, 785)"
      ]
     },
     "execution_count": 34,
     "metadata": {},
     "output_type": "execute_result"
    }
   ],
   "source": [
    "df.shape\n"
   ]
  },
  {
   "cell_type": "code",
   "execution_count": 36,
   "metadata": {},
   "outputs": [
    {
     "name": "stderr",
     "output_type": "stream",
     "text": [
      "C:\\ProgramData\\Anaconda3\\lib\\site-packages\\ipykernel_launcher.py:1: FutureWarning: Method .as_matrix will be removed in a future version. Use .values instead.\n",
      "  \"\"\"Entry point for launching an IPython kernel.\n"
     ]
    },
    {
     "data": {
      "text/plain": [
       "(784,)"
      ]
     },
     "execution_count": 36,
     "metadata": {},
     "output_type": "execute_result"
    }
   ],
   "source": [
    "M = df.as_matrix()\n",
    "im =M[0,1:]\n",
    "im.shape"
   ]
  },
  {
   "cell_type": "code",
   "execution_count": 37,
   "metadata": {},
   "outputs": [
    {
     "data": {
      "text/plain": [
       "(28, 28)"
      ]
     },
     "execution_count": 37,
     "metadata": {},
     "output_type": "execute_result"
    }
   ],
   "source": [
    "i = im.reshape(28,28)\n",
    "i.shape"
   ]
  },
  {
   "cell_type": "code",
   "execution_count": 38,
   "metadata": {},
   "outputs": [
    {
     "data": {
      "text/plain": [
       "<matplotlib.image.AxesImage at 0x1e7970bf518>"
      ]
     },
     "execution_count": 38,
     "metadata": {},
     "output_type": "execute_result"
    },
    {
     "data": {
      "image/png": "[encoded data removed]",
      "text/plain": [
       "<Figure size 432x288 with 1 Axes>"
      ]
     },
     "metadata": {
      "needs_background": "light"
     },
     "output_type": "display_data"
    }
   ],
   "source": [
    "plt.imshow(i)"
   ]
  },
  {
   "cell_type": "code",
   "execution_count": 39,
   "metadata": {},
   "outputs": [
    {
     "data": {
      "text/plain": [
       "0.3989422804014327"
      ]
     },
     "execution_count": 39,
     "metadata": {},
     "output_type": "execute_result"
    }
   ],
   "source": [
    "from scipy.stats import norm\n",
    "\n",
    "norm.pdf(0)"
   ]
  },
  {
   "cell_type": "code",
   "execution_count": 42,
   "metadata": {},
   "outputs": [
    {
     "data": {
      "text/plain": [
       "(array([  1.,   0.,   1.,   1.,   0.,   1.,   2.,   1.,   4.,   3.,   1.,\n",
       "          0.,   2.,   4.,   6.,   9.,   5.,  12.,   8.,  16.,  18.,  23.,\n",
       "         32.,  29.,  37.,  44.,  59.,  67.,  73.,  96.,  96., 117., 116.,\n",
       "        138., 139., 130., 181., 192., 234., 251., 238., 275., 276., 296.,\n",
       "        309., 309., 320., 316., 304., 338., 318., 308., 312., 286., 306.,\n",
       "        287., 261., 270., 286., 257., 221., 199., 198., 177., 155., 149.,\n",
       "        109., 110.,  98.,  81.,  79.,  75.,  39.,  53.,  44.,  37.,  28.,\n",
       "         24.,  25.,  15.,   9.,   5.,   9.,   4.,  10.,   8.,   4.,   1.,\n",
       "          5.,   3.,   1.,   0.,   2.,   0.,   0.,   0.,   0.,   0.,   0.,\n",
       "          2.]),\n",
       " array([-3.98248166, -3.90202101, -3.82156036, -3.7410997 , -3.66063905,\n",
       "        -3.58017839, -3.49971774, -3.41925708, -3.33879643, -3.25833578,\n",
       "        -3.17787512, -3.09741447, -3.01695381, -2.93649316, -2.85603251,\n",
       "        -2.77557185, -2.6951112 , -2.61465054, -2.53418989, -2.45372923,\n",
       "        -2.37326858, -2.29280793, -2.21234727, -2.13188662, -2.05142596,\n",
       "        -1.97096531, -1.89050466, -1.810044  , -1.72958335, -1.64912269,\n",
       "        -1.56866204, -1.48820138, -1.40774073, -1.32728008, -1.24681942,\n",
       "        -1.16635877, -1.08589811, -1.00543746, -0.92497681, -0.84451615,\n",
       "        -0.7640555 , -0.68359484, -0.60313419, -0.52267353, -0.44221288,\n",
       "        -0.36175223, -0.28129157, -0.20083092, -0.12037026, -0.03990961,\n",
       "         0.04055104,  0.1210117 ,  0.20147235,  0.28193301,  0.36239366,\n",
       "         0.44285432,  0.52331497,  0.60377562,  0.68423628,  0.76469693,\n",
       "         0.84515759,  0.92561824,  1.00607889,  1.08653955,  1.1670002 ,\n",
       "         1.24746086,  1.32792151,  1.40838216,  1.48884282,  1.56930347,\n",
       "         1.64976413,  1.73022478,  1.81068544,  1.89114609,  1.97160674,\n",
       "         2.0520674 ,  2.13252805,  2.21298871,  2.29344936,  2.37391001,\n",
       "         2.45437067,  2.53483132,  2.61529198,  2.69575263,  2.77621329,\n",
       "         2.85667394,  2.93713459,  3.01759525,  3.0980559 ,  3.17851656,\n",
       "         3.25897721,  3.33943786,  3.41989852,  3.50035917,  3.58081983,\n",
       "         3.66128048,  3.74174114,  3.82220179,  3.90266244,  3.9831231 ,\n",
       "         4.06358375]),\n",
       " <a list of 100 Patch objects>)"
      ]
     },
     "execution_count": 42,
     "metadata": {},
     "output_type": "execute_result"
    },
    {
     "data": {
      "image/png": "[encoded data removed]",
      "text/plain": [
       "<Figure size 432x288 with 1 Axes>"
      ]
     },
     "metadata": {
      "needs_background": "light"
     },
     "output_type": "display_data"
    }
   ],
   "source": [
    "r =np.random.randn(10000)\n",
    "plt.hist(r,bins =100)"
   ]
  },
  {
   "cell_type": "code",
   "execution_count": null,
   "metadata": {},
   "outputs": [],
   "source": []
  }
 ],
 "metadata": {
  "kernelspec": {
   "display_name": "Python 3",
   "language": "python",
   "name": "python3"
  },
  "language_info": {
   "codemirror_mode": {
    "name": "ipython",
    "version": 3
   },
   "file_extension": ".py",
   "mimetype": "text/x-python",
   "name": "python",
   "nbconvert_exporter": "python",
   "pygments_lexer": "ipython3",
   "version": "3.6.8"
  }
 },
 "nbformat": 4,
 "nbformat_minor": 2
}
