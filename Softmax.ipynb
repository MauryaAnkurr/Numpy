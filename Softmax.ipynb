{
 "cells": [
  {
   "cell_type": "code",
   "execution_count": 3,
   "metadata": {},
   "outputs": [],
   "source": [
    "z=[1,2,3]"
   ]
  },
  {
   "cell_type": "code",
   "execution_count": 6,
   "metadata": {},
   "outputs": [],
   "source": [
    "import numpy as np\n",
    "num = np.exp(z)\n",
    "deno= np.sum(num)\n",
    "sigma =num/deno"
   ]
  },
  {
   "cell_type": "code",
   "execution_count": 8,
   "metadata": {},
   "outputs": [
    {
     "name": "stdout",
     "output_type": "stream",
     "text": [
      "[0.09003057 0.24472847 0.66524096]\n",
      "30.19287485057736\n",
      "[ 2.71828183  7.3890561  20.08553692]\n"
     ]
    }
   ],
   "source": [
    "print(sigma)\n",
    "print(deno)\n",
    "print(num)"
   ]
  },
  {
   "cell_type": "code",
   "execution_count": 11,
   "metadata": {},
   "outputs": [
    {
     "name": "stdout",
     "output_type": "stream",
     "text": [
      "[13  2 -4  9  9 -4  1 -2 -5  1  5 -4  0  6  2 11 -5 10  4 10 -5 -2  7 14\n",
      " -4]\n",
      "[2.50393067e-01 4.18199008e-06 1.03661170e-08 4.58610899e-03\n",
      " 4.58610899e-03 1.03661170e-08 1.53846817e-06 7.65958201e-08\n",
      " 3.81348133e-09 1.53846817e-06 8.39975161e-05 1.03661170e-08\n",
      " 5.65970812e-07 2.28328922e-04 4.18199008e-06 3.38870166e-02\n",
      " 3.81348133e-09 1.24663367e-02 3.09009593e-05 1.24663367e-02\n",
      " 3.81348133e-09 7.65958201e-08 6.20662359e-04 6.80638923e-01\n",
      " 1.03661170e-08]\n",
      "1766875.569417534\n",
      "[4.42413392e+05 7.38905610e+00 1.83156389e-02 8.10308393e+03\n",
      " 8.10308393e+03 1.83156389e-02 2.71828183e+00 1.35335283e-01\n",
      " 6.73794700e-03 2.71828183e+00 1.48413159e+02 1.83156389e-02\n",
      " 1.00000000e+00 4.03428793e+02 7.38905610e+00 5.98741417e+04\n",
      " 6.73794700e-03 2.20264658e+04 5.45981500e+01 2.20264658e+04\n",
      " 6.73794700e-03 1.35335283e-01 1.09663316e+03 1.20260428e+06\n",
      " 1.83156389e-02]\n"
     ]
    }
   ],
   "source": [
    "#reapeat the samething for random number\n",
    "\n",
    "z = np.random.randint(-5,high = 15,size=25)\n",
    "print(z)\n",
    "num = np.exp(z)\n",
    "deno= np.sum(num)\n",
    "sigma =num/deno\n",
    "print(sigma)\n",
    "print(deno)\n",
    "print(num)"
   ]
  },
  {
   "cell_type": "code",
   "execution_count": 12,
   "metadata": {},
   "outputs": [],
   "source": [
    "import matplotlib.pyplot as plt"
   ]
  },
  {
   "cell_type": "code",
   "execution_count": 13,
   "metadata": {},
   "outputs": [
    {
     "data": {
      "image/png": "[encoded data removed]",
      "text/plain": [
       "<Figure size 432x288 with 1 Axes>"
      ]
     },
     "metadata": {
      "needs_background": "light"
     },
     "output_type": "display_data"
    }
   ],
   "source": [
    "plt.plot(z,sigma,\"ko\")\n",
    "plt.show()"
   ]
  },
  {
   "cell_type": "code",
   "execution_count": null,
   "metadata": {},
   "outputs": [],
   "source": []
  }
 ],
 "metadata": {
  "kernelspec": {
   "display_name": "Python 3",
   "language": "python",
   "name": "python3"
  },
  "language_info": {
   "codemirror_mode": {
    "name": "ipython",
    "version": 3
   },
   "file_extension": ".py",
   "mimetype": "text/x-python",
   "name": "python",
   "nbconvert_exporter": "python",
   "pygments_lexer": "ipython3",
   "version": "3.6.5"
  }
 },
 "nbformat": 4,
 "nbformat_minor": 4
}
